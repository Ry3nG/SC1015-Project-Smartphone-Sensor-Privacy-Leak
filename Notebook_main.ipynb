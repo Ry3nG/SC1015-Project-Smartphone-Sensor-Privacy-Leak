{
 "cells": [
  {
   "cell_type": "markdown",
   "metadata": {},
   "source": [
    "# SC1015 Project\n",
    "> by SCSE Chen Yi, SCSE Gong Zerui, and SCSE Zeng Xunyi"
   ]
  },
  {
   "cell_type": "code",
   "execution_count": 6,
   "metadata": {},
   "outputs": [],
   "source": [
    "# Basic Libraries\n",
    "\n",
    "# To store data\n",
    "import pandas as pd\n",
    "\n",
    "# To do Linear Algebra\n",
    "import numpy as np\n",
    "\n",
    "# To create Plots\n",
    "import seaborn as sb\n",
    "import matplotlib.pyplot as plt\n"
   ]
  },
  {
   "cell_type": "code",
   "execution_count": 7,
   "metadata": {},
   "outputs": [],
   "source": [
    "train_df = pd.read_csv('source/train.csv')\n",
    "test_df = pd.read_csv('source/test.csv')\n",
    "\n",
    "train_df['Data'] = 'Train'\n",
    "test_df['Data'] = 'Test'\n",
    " #\n",
    "\n"
   ]
  }
 ],
 "metadata": {
  "interpreter": {
   "hash": "fbc8aa4214fedb48b0b7e9159cb57cac96f213c2036602ef91c90215122c989b"
  },
  "kernelspec": {
   "display_name": "Python 3.10.0 64-bit",
   "language": "python",
   "name": "python3"
  },
  "language_info": {
   "codemirror_mode": {
    "name": "ipython",
    "version": 3
   },
   "file_extension": ".py",
   "mimetype": "text/x-python",
   "name": "python",
   "nbconvert_exporter": "python",
   "pygments_lexer": "ipython3",
   "version": "3.10.2"
  },
  "orig_nbformat": 4
 },
 "nbformat": 4,
 "nbformat_minor": 2
}
