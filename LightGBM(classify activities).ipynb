{
 "cells": [
  {
   "cell_type": "markdown",
   "metadata": {},
   "source": [
    "# Light-GBM"
   ]
  },
  {
   "cell_type": "code",
   "execution_count": 1,
   "metadata": {},
   "outputs": [],
   "source": [
    "import numpy as np\n",
    "import pandas as pd\n",
    "import matplotlib.pyplot as plt\n",
    "import seaborn as sb\n",
    "sb.set()\n",
    "from collections import Counter"
   ]
  },
  {
   "cell_type": "code",
   "execution_count": 2,
   "metadata": {},
   "outputs": [],
   "source": [
    "df_train = pd.read_csv(\"source/train.csv\")\n",
    "df_test = pd.read_csv(\"source/test.csv\")"
   ]
  },
  {
   "cell_type": "code",
   "execution_count": 3,
   "metadata": {},
   "outputs": [
    {
     "name": "stdout",
     "output_type": "stream",
     "text": [
      "Number of subjects in train:  21\n",
      "25    409\n",
      "21    408\n",
      "26    392\n",
      "30    383\n",
      "28    382\n",
      "27    376\n",
      "23    372\n",
      "17    368\n",
      "16    366\n",
      "19    360\n",
      "1     347\n",
      "29    344\n",
      "3     341\n",
      "15    328\n",
      "6     325\n",
      "14    323\n",
      "22    321\n",
      "11    316\n",
      "7     308\n",
      "5     302\n",
      "8     281\n",
      "Name: subject, dtype: int64\n",
      "<class 'pandas.core.frame.DataFrame'>\n",
      "RangeIndex: 7352 entries, 0 to 7351\n",
      "Columns: 563 entries, tBodyAcc-mean()-X to Activity\n",
      "dtypes: float64(561), int64(1), object(1)\n",
      "memory usage: 31.6+ MB\n"
     ]
    },
    {
     "data": {
      "image/png": "[encoded data removed]",
      "text/plain": [
       "<Figure size 360x360 with 1 Axes>"
      ]
     },
     "metadata": {},
     "output_type": "display_data"
    }
   ],
   "source": [
    "print(\"Number of subjects in train: \", len(df_train[\"subject\"].unique()))\n",
    "print(df_train[\"subject\"].value_counts())\n",
    "sb.catplot(y = \"subject\", data = df_train, kind = \"count\")\n",
    "df_train.info()"
   ]
  },
  {
   "cell_type": "code",
   "execution_count": 4,
   "metadata": {},
   "outputs": [
    {
     "name": "stdout",
     "output_type": "stream",
     "text": [
      "Number of subjects in test:  9\n",
      "24    381\n",
      "18    364\n",
      "20    354\n",
      "13    327\n",
      "12    320\n",
      "4     317\n",
      "2     302\n",
      "10    294\n",
      "9     288\n",
      "Name: subject, dtype: int64\n"
     ]
    },
    {
     "data": {
      "text/plain": [
       "<seaborn.axisgrid.FacetGrid at 0x255c5eacca0>"
      ]
     },
     "execution_count": 4,
     "metadata": {},
     "output_type": "execute_result"
    },
    {
     "data": {
      "image/png": "[encoded data removed]",
      "text/plain": [
       "<Figure size 360x360 with 1 Axes>"
      ]
     },
     "metadata": {},
     "output_type": "display_data"
    }
   ],
   "source": [
    "print(\"Number of subjects in test: \", len(df_test[\"subject\"].unique()))\n",
    "print(df_test[\"subject\"].value_counts())\n",
    "sb.catplot(y = \"subject\", data = df_test, kind = \"count\")"
   ]
  },
  {
   "cell_type": "code",
   "execution_count": 5,
   "metadata": {},
   "outputs": [],
   "source": [
    "X_train = pd.DataFrame(df_train.drop(['Activity','subject'],axis=1))\n",
    "y_train = df_train.Activity\n",
    "X_test = pd.DataFrame(df_test.drop(['Activity','subject'], axis = 1))\n",
    "y_test = df_test.Activity"
   ]
  },
  {
   "cell_type": "code",
   "execution_count": 6,
   "metadata": {},
   "outputs": [
    {
     "data": {
      "text/plain": [
       "561"
      ]
     },
     "execution_count": 6,
     "metadata": {},
     "output_type": "execute_result"
    }
   ],
   "source": [
    "num_cols = X_train._get_numeric_data().columns\n",
    "num_cols.size"
   ]
  },
  {
   "cell_type": "markdown",
   "metadata": {},
   "source": [
    "## feature scaling"
   ]
  },
  {
   "cell_type": "code",
   "execution_count": 8,
   "metadata": {},
   "outputs": [],
   "source": [
    "from sklearn.preprocessing import StandardScaler\n",
    "scaler = StandardScaler()\n",
    "X_train_scaled = scaler.fit_transform(X_train)\n",
    "X_test_scaled = scaler.transform(X_test)"
   ]
  },
  {
   "cell_type": "markdown",
   "metadata": {},
   "source": [
    "## Running lgbm with hypertuning"
   ]
  },
  {
   "cell_type": "code",
   "execution_count": null,
   "metadata": {},
   "outputs": [
    {
     "name": "stdout",
     "output_type": "stream",
     "text": [
      "Fitting 5 folds for each of 10 candidates, totalling 50 fits\n",
      "[CV] reg_alpha=0.5, num_leaves=31, min_data_in_leaf=30, lambda_l2=0, lambda_l1=1.5 \n"
     ]
    },
    {
     "name": "stderr",
     "output_type": "stream",
     "text": [
      "[Parallel(n_jobs=1)]: Using backend SequentialBackend with 1 concurrent workers.\n"
     ]
    },
    {
     "name": "stdout",
     "output_type": "stream",
     "text": [
      "[CV]  reg_alpha=0.5, num_leaves=31, min_data_in_leaf=30, lambda_l2=0, lambda_l1=1.5, total=   4.4s\n",
      "[CV] reg_alpha=0.5, num_leaves=31, min_data_in_leaf=30, lambda_l2=0, lambda_l1=1.5 \n",
      "[LightGBM] [Warning] min_data_in_leaf is set=30, min_child_samples=20 will be ignored. Current value: min_data_in_leaf=30\n",
      "[LightGBM] [Warning] lambda_l1 is set=1.5, reg_alpha=0.5 will be ignored. Current value: lambda_l1=1.5\n",
      "[LightGBM] [Warning] lambda_l2 is set=0, reg_lambda=0.0 will be ignored. Current value: lambda_l2=0\n"
     ]
    },
    {
     "name": "stderr",
     "output_type": "stream",
     "text": [
      "[Parallel(n_jobs=1)]: Done   1 out of   1 | elapsed:    4.3s remaining:    0.0s\n"
     ]
    },
    {
     "name": "stdout",
     "output_type": "stream",
     "text": [
      "[CV]  reg_alpha=0.5, num_leaves=31, min_data_in_leaf=30, lambda_l2=0, lambda_l1=1.5, total=   5.0s\n",
      "[CV] reg_alpha=0.5, num_leaves=31, min_data_in_leaf=30, lambda_l2=0, lambda_l1=1.5 \n",
      "[LightGBM] [Warning] min_data_in_leaf is set=30, min_child_samples=20 will be ignored. Current value: min_data_in_leaf=30\n",
      "[LightGBM] [Warning] lambda_l1 is set=1.5, reg_alpha=0.5 will be ignored. Current value: lambda_l1=1.5\n",
      "[LightGBM] [Warning] lambda_l2 is set=0, reg_lambda=0.0 will be ignored. Current value: lambda_l2=0\n",
      "[CV]  reg_alpha=0.5, num_leaves=31, min_data_in_leaf=30, lambda_l2=0, lambda_l1=1.5, total=   4.6s\n",
      "[CV] reg_alpha=0.5, num_leaves=31, min_data_in_leaf=30, lambda_l2=0, lambda_l1=1.5 \n",
      "[LightGBM] [Warning] min_data_in_leaf is set=30, min_child_samples=20 will be ignored. Current value: min_data_in_leaf=30\n",
      "[LightGBM] [Warning] lambda_l1 is set=1.5, reg_alpha=0.5 will be ignored. Current value: lambda_l1=1.5\n",
      "[LightGBM] [Warning] lambda_l2 is set=0, reg_lambda=0.0 will be ignored. Current value: lambda_l2=0\n",
      "[CV]  reg_alpha=0.5, num_leaves=31, min_data_in_leaf=30, lambda_l2=0, lambda_l1=1.5, total=   4.9s\n",
      "[CV] reg_alpha=0.5, num_leaves=31, min_data_in_leaf=30, lambda_l2=0, lambda_l1=1.5 \n",
      "[LightGBM] [Warning] min_data_in_leaf is set=30, min_child_samples=20 will be ignored. Current value: min_data_in_leaf=30\n",
      "[LightGBM] [Warning] lambda_l1 is set=1.5, reg_alpha=0.5 will be ignored. Current value: lambda_l1=1.5\n",
      "[LightGBM] [Warning] lambda_l2 is set=0, reg_lambda=0.0 will be ignored. Current value: lambda_l2=0\n",
      "[CV]  reg_alpha=0.5, num_leaves=31, min_data_in_leaf=30, lambda_l2=0, lambda_l1=1.5, total=   5.1s\n",
      "[CV] reg_alpha=0.5, num_leaves=31, min_data_in_leaf=50, lambda_l2=1, lambda_l1=1 \n",
      "[LightGBM] [Warning] min_data_in_leaf is set=50, min_child_samples=20 will be ignored. Current value: min_data_in_leaf=50\n",
      "[LightGBM] [Warning] lambda_l1 is set=1, reg_alpha=0.5 will be ignored. Current value: lambda_l1=1\n",
      "[LightGBM] [Warning] lambda_l2 is set=1, reg_lambda=0.0 will be ignored. Current value: lambda_l2=1\n",
      "[CV]  reg_alpha=0.5, num_leaves=31, min_data_in_leaf=50, lambda_l2=1, lambda_l1=1, total=   5.4s\n",
      "[CV] reg_alpha=0.5, num_leaves=31, min_data_in_leaf=50, lambda_l2=1, lambda_l1=1 \n",
      "[LightGBM] [Warning] min_data_in_leaf is set=50, min_child_samples=20 will be ignored. Current value: min_data_in_leaf=50\n",
      "[LightGBM] [Warning] lambda_l1 is set=1, reg_alpha=0.5 will be ignored. Current value: lambda_l1=1\n",
      "[LightGBM] [Warning] lambda_l2 is set=1, reg_lambda=0.0 will be ignored. Current value: lambda_l2=1\n",
      "[CV]  reg_alpha=0.5, num_leaves=31, min_data_in_leaf=50, lambda_l2=1, lambda_l1=1, total=   5.6s\n",
      "[CV] reg_alpha=0.5, num_leaves=31, min_data_in_leaf=50, lambda_l2=1, lambda_l1=1 \n",
      "[LightGBM] [Warning] min_data_in_leaf is set=50, min_child_samples=20 will be ignored. Current value: min_data_in_leaf=50\n",
      "[LightGBM] [Warning] lambda_l1 is set=1, reg_alpha=0.5 will be ignored. Current value: lambda_l1=1\n",
      "[LightGBM] [Warning] lambda_l2 is set=1, reg_lambda=0.0 will be ignored. Current value: lambda_l2=1\n",
      "[CV]  reg_alpha=0.5, num_leaves=31, min_data_in_leaf=50, lambda_l2=1, lambda_l1=1, total=   6.2s\n",
      "[CV] reg_alpha=0.5, num_leaves=31, min_data_in_leaf=50, lambda_l2=1, lambda_l1=1 \n",
      "[LightGBM] [Warning] min_data_in_leaf is set=50, min_child_samples=20 will be ignored. Current value: min_data_in_leaf=50\n",
      "[LightGBM] [Warning] lambda_l1 is set=1, reg_alpha=0.5 will be ignored. Current value: lambda_l1=1\n",
      "[LightGBM] [Warning] lambda_l2 is set=1, reg_lambda=0.0 will be ignored. Current value: lambda_l2=1\n",
      "[CV]  reg_alpha=0.5, num_leaves=31, min_data_in_leaf=50, lambda_l2=1, lambda_l1=1, total=   5.5s\n",
      "[CV] reg_alpha=0.5, num_leaves=31, min_data_in_leaf=50, lambda_l2=1, lambda_l1=1 \n",
      "[LightGBM] [Warning] min_data_in_leaf is set=50, min_child_samples=20 will be ignored. Current value: min_data_in_leaf=50\n",
      "[LightGBM] [Warning] lambda_l1 is set=1, reg_alpha=0.5 will be ignored. Current value: lambda_l1=1\n",
      "[LightGBM] [Warning] lambda_l2 is set=1, reg_lambda=0.0 will be ignored. Current value: lambda_l2=1\n",
      "[CV]  reg_alpha=0.5, num_leaves=31, min_data_in_leaf=50, lambda_l2=1, lambda_l1=1, total=   5.6s\n",
      "[CV] reg_alpha=0.1, num_leaves=127, min_data_in_leaf=50, lambda_l2=0, lambda_l1=1 \n",
      "[LightGBM] [Warning] min_data_in_leaf is set=50, min_child_samples=20 will be ignored. Current value: min_data_in_leaf=50\n",
      "[LightGBM] [Warning] lambda_l1 is set=1, reg_alpha=0.1 will be ignored. Current value: lambda_l1=1\n",
      "[LightGBM] [Warning] lambda_l2 is set=0, reg_lambda=0.0 will be ignored. Current value: lambda_l2=0\n",
      "[CV]  reg_alpha=0.1, num_leaves=127, min_data_in_leaf=50, lambda_l2=0, lambda_l1=1, total=   5.9s\n",
      "[CV] reg_alpha=0.1, num_leaves=127, min_data_in_leaf=50, lambda_l2=0, lambda_l1=1 \n",
      "[LightGBM] [Warning] min_data_in_leaf is set=50, min_child_samples=20 will be ignored. Current value: min_data_in_leaf=50\n",
      "[LightGBM] [Warning] lambda_l1 is set=1, reg_alpha=0.1 will be ignored. Current value: lambda_l1=1\n",
      "[LightGBM] [Warning] lambda_l2 is set=0, reg_lambda=0.0 will be ignored. Current value: lambda_l2=0\n",
      "[CV]  reg_alpha=0.1, num_leaves=127, min_data_in_leaf=50, lambda_l2=0, lambda_l1=1, total=   6.0s\n",
      "[CV] reg_alpha=0.1, num_leaves=127, min_data_in_leaf=50, lambda_l2=0, lambda_l1=1 \n",
      "[LightGBM] [Warning] min_data_in_leaf is set=50, min_child_samples=20 will be ignored. Current value: min_data_in_leaf=50\n",
      "[LightGBM] [Warning] lambda_l1 is set=1, reg_alpha=0.1 will be ignored. Current value: lambda_l1=1\n",
      "[LightGBM] [Warning] lambda_l2 is set=0, reg_lambda=0.0 will be ignored. Current value: lambda_l2=0\n",
      "[CV]  reg_alpha=0.1, num_leaves=127, min_data_in_leaf=50, lambda_l2=0, lambda_l1=1, total=   5.1s\n",
      "[CV] reg_alpha=0.1, num_leaves=127, min_data_in_leaf=50, lambda_l2=0, lambda_l1=1 \n",
      "[LightGBM] [Warning] min_data_in_leaf is set=50, min_child_samples=20 will be ignored. Current value: min_data_in_leaf=50\n",
      "[LightGBM] [Warning] lambda_l1 is set=1, reg_alpha=0.1 will be ignored. Current value: lambda_l1=1\n",
      "[LightGBM] [Warning] lambda_l2 is set=0, reg_lambda=0.0 will be ignored. Current value: lambda_l2=0\n",
      "[CV]  reg_alpha=0.1, num_leaves=127, min_data_in_leaf=50, lambda_l2=0, lambda_l1=1, total=   5.5s\n",
      "[CV] reg_alpha=0.1, num_leaves=127, min_data_in_leaf=50, lambda_l2=0, lambda_l1=1 \n",
      "[LightGBM] [Warning] min_data_in_leaf is set=50, min_child_samples=20 will be ignored. Current value: min_data_in_leaf=50\n",
      "[LightGBM] [Warning] lambda_l1 is set=1, reg_alpha=0.1 will be ignored. Current value: lambda_l1=1\n",
      "[LightGBM] [Warning] lambda_l2 is set=0, reg_lambda=0.0 will be ignored. Current value: lambda_l2=0\n",
      "[CV]  reg_alpha=0.1, num_leaves=127, min_data_in_leaf=50, lambda_l2=0, lambda_l1=1, total=   6.3s\n",
      "[CV] reg_alpha=0.1, num_leaves=127, min_data_in_leaf=100, lambda_l2=0, lambda_l1=1 \n",
      "[LightGBM] [Warning] min_data_in_leaf is set=100, min_child_samples=20 will be ignored. Current value: min_data_in_leaf=100\n",
      "[LightGBM] [Warning] lambda_l1 is set=1, reg_alpha=0.1 will be ignored. Current value: lambda_l1=1\n",
      "[LightGBM] [Warning] lambda_l2 is set=0, reg_lambda=0.0 will be ignored. Current value: lambda_l2=0\n",
      "[CV]  reg_alpha=0.1, num_leaves=127, min_data_in_leaf=100, lambda_l2=0, lambda_l1=1, total=   5.7s\n",
      "[CV] reg_alpha=0.1, num_leaves=127, min_data_in_leaf=100, lambda_l2=0, lambda_l1=1 \n",
      "[LightGBM] [Warning] min_data_in_leaf is set=100, min_child_samples=20 will be ignored. Current value: min_data_in_leaf=100\n",
      "[LightGBM] [Warning] lambda_l1 is set=1, reg_alpha=0.1 will be ignored. Current value: lambda_l1=1\n",
      "[LightGBM] [Warning] lambda_l2 is set=0, reg_lambda=0.0 will be ignored. Current value: lambda_l2=0\n",
      "[CV]  reg_alpha=0.1, num_leaves=127, min_data_in_leaf=100, lambda_l2=0, lambda_l1=1, total=   6.2s\n",
      "[CV] reg_alpha=0.1, num_leaves=127, min_data_in_leaf=100, lambda_l2=0, lambda_l1=1 \n",
      "[LightGBM] [Warning] min_data_in_leaf is set=100, min_child_samples=20 will be ignored. Current value: min_data_in_leaf=100\n",
      "[LightGBM] [Warning] lambda_l1 is set=1, reg_alpha=0.1 will be ignored. Current value: lambda_l1=1\n",
      "[LightGBM] [Warning] lambda_l2 is set=0, reg_lambda=0.0 will be ignored. Current value: lambda_l2=0\n",
      "[CV]  reg_alpha=0.1, num_leaves=127, min_data_in_leaf=100, lambda_l2=0, lambda_l1=1, total=   5.5s\n",
      "[CV] reg_alpha=0.1, num_leaves=127, min_data_in_leaf=100, lambda_l2=0, lambda_l1=1 \n",
      "[LightGBM] [Warning] min_data_in_leaf is set=100, min_child_samples=20 will be ignored. Current value: min_data_in_leaf=100\n",
      "[LightGBM] [Warning] lambda_l1 is set=1, reg_alpha=0.1 will be ignored. Current value: lambda_l1=1\n",
      "[LightGBM] [Warning] lambda_l2 is set=0, reg_lambda=0.0 will be ignored. Current value: lambda_l2=0\n"
     ]
    },
    {
     "name": "stdout",
     "output_type": "stream",
     "text": [
      "[CV]  reg_alpha=0.1, num_leaves=127, min_data_in_leaf=100, lambda_l2=0, lambda_l1=1, total=   6.1s\n",
      "[CV] reg_alpha=0.1, num_leaves=127, min_data_in_leaf=100, lambda_l2=0, lambda_l1=1 \n",
      "[LightGBM] [Warning] min_data_in_leaf is set=100, min_child_samples=20 will be ignored. Current value: min_data_in_leaf=100\n",
      "[LightGBM] [Warning] lambda_l1 is set=1, reg_alpha=0.1 will be ignored. Current value: lambda_l1=1\n",
      "[LightGBM] [Warning] lambda_l2 is set=0, reg_lambda=0.0 will be ignored. Current value: lambda_l2=0\n",
      "[CV]  reg_alpha=0.1, num_leaves=127, min_data_in_leaf=100, lambda_l2=0, lambda_l1=1, total=   6.2s\n",
      "[CV] reg_alpha=0.5, num_leaves=31, min_data_in_leaf=400, lambda_l2=0, lambda_l1=1 \n",
      "[LightGBM] [Warning] min_data_in_leaf is set=400, min_child_samples=20 will be ignored. Current value: min_data_in_leaf=400\n",
      "[LightGBM] [Warning] lambda_l1 is set=1, reg_alpha=0.5 will be ignored. Current value: lambda_l1=1\n",
      "[LightGBM] [Warning] lambda_l2 is set=0, reg_lambda=0.0 will be ignored. Current value: lambda_l2=0\n",
      "[CV]  reg_alpha=0.5, num_leaves=31, min_data_in_leaf=400, lambda_l2=0, lambda_l1=1, total=   4.4s\n",
      "[CV] reg_alpha=0.5, num_leaves=31, min_data_in_leaf=400, lambda_l2=0, lambda_l1=1 \n",
      "[LightGBM] [Warning] min_data_in_leaf is set=400, min_child_samples=20 will be ignored. Current value: min_data_in_leaf=400\n",
      "[LightGBM] [Warning] lambda_l1 is set=1, reg_alpha=0.5 will be ignored. Current value: lambda_l1=1\n",
      "[LightGBM] [Warning] lambda_l2 is set=0, reg_lambda=0.0 will be ignored. Current value: lambda_l2=0\n",
      "[CV]  reg_alpha=0.5, num_leaves=31, min_data_in_leaf=400, lambda_l2=0, lambda_l1=1, total=   4.6s\n",
      "[CV] reg_alpha=0.5, num_leaves=31, min_data_in_leaf=400, lambda_l2=0, lambda_l1=1 \n",
      "[LightGBM] [Warning] min_data_in_leaf is set=400, min_child_samples=20 will be ignored. Current value: min_data_in_leaf=400\n",
      "[LightGBM] [Warning] lambda_l1 is set=1, reg_alpha=0.5 will be ignored. Current value: lambda_l1=1\n",
      "[LightGBM] [Warning] lambda_l2 is set=0, reg_lambda=0.0 will be ignored. Current value: lambda_l2=0\n",
      "[CV]  reg_alpha=0.5, num_leaves=31, min_data_in_leaf=400, lambda_l2=0, lambda_l1=1, total=   4.9s\n",
      "[CV] reg_alpha=0.5, num_leaves=31, min_data_in_leaf=400, lambda_l2=0, lambda_l1=1 \n",
      "[LightGBM] [Warning] min_data_in_leaf is set=400, min_child_samples=20 will be ignored. Current value: min_data_in_leaf=400\n",
      "[LightGBM] [Warning] lambda_l1 is set=1, reg_alpha=0.5 will be ignored. Current value: lambda_l1=1\n",
      "[LightGBM] [Warning] lambda_l2 is set=0, reg_lambda=0.0 will be ignored. Current value: lambda_l2=0\n",
      "[CV]  reg_alpha=0.5, num_leaves=31, min_data_in_leaf=400, lambda_l2=0, lambda_l1=1, total=   4.7s\n",
      "[CV] reg_alpha=0.5, num_leaves=31, min_data_in_leaf=400, lambda_l2=0, lambda_l1=1 \n",
      "[LightGBM] [Warning] min_data_in_leaf is set=400, min_child_samples=20 will be ignored. Current value: min_data_in_leaf=400\n",
      "[LightGBM] [Warning] lambda_l1 is set=1, reg_alpha=0.5 will be ignored. Current value: lambda_l1=1\n",
      "[LightGBM] [Warning] lambda_l2 is set=0, reg_lambda=0.0 will be ignored. Current value: lambda_l2=0\n",
      "[CV]  reg_alpha=0.5, num_leaves=31, min_data_in_leaf=400, lambda_l2=0, lambda_l1=1, total=   4.7s\n",
      "[CV] reg_alpha=0.5, num_leaves=127, min_data_in_leaf=400, lambda_l2=1, lambda_l1=1.5 \n",
      "[LightGBM] [Warning] min_data_in_leaf is set=400, min_child_samples=20 will be ignored. Current value: min_data_in_leaf=400\n",
      "[LightGBM] [Warning] lambda_l1 is set=1.5, reg_alpha=0.5 will be ignored. Current value: lambda_l1=1.5\n",
      "[LightGBM] [Warning] lambda_l2 is set=1, reg_lambda=0.0 will be ignored. Current value: lambda_l2=1\n",
      "[CV]  reg_alpha=0.5, num_leaves=127, min_data_in_leaf=400, lambda_l2=1, lambda_l1=1.5, total=   4.4s\n",
      "[CV] reg_alpha=0.5, num_leaves=127, min_data_in_leaf=400, lambda_l2=1, lambda_l1=1.5 \n",
      "[LightGBM] [Warning] min_data_in_leaf is set=400, min_child_samples=20 will be ignored. Current value: min_data_in_leaf=400\n",
      "[LightGBM] [Warning] lambda_l1 is set=1.5, reg_alpha=0.5 will be ignored. Current value: lambda_l1=1.5\n",
      "[LightGBM] [Warning] lambda_l2 is set=1, reg_lambda=0.0 will be ignored. Current value: lambda_l2=1\n",
      "[CV]  reg_alpha=0.5, num_leaves=127, min_data_in_leaf=400, lambda_l2=1, lambda_l1=1.5, total=   5.0s\n",
      "[CV] reg_alpha=0.5, num_leaves=127, min_data_in_leaf=400, lambda_l2=1, lambda_l1=1.5 \n",
      "[LightGBM] [Warning] min_data_in_leaf is set=400, min_child_samples=20 will be ignored. Current value: min_data_in_leaf=400\n",
      "[LightGBM] [Warning] lambda_l1 is set=1.5, reg_alpha=0.5 will be ignored. Current value: lambda_l1=1.5\n",
      "[LightGBM] [Warning] lambda_l2 is set=1, reg_lambda=0.0 will be ignored. Current value: lambda_l2=1\n",
      "[CV]  reg_alpha=0.5, num_leaves=127, min_data_in_leaf=400, lambda_l2=1, lambda_l1=1.5, total=   5.7s\n",
      "[CV] reg_alpha=0.5, num_leaves=127, min_data_in_leaf=400, lambda_l2=1, lambda_l1=1.5 \n",
      "[LightGBM] [Warning] min_data_in_leaf is set=400, min_child_samples=20 will be ignored. Current value: min_data_in_leaf=400\n",
      "[LightGBM] [Warning] lambda_l1 is set=1.5, reg_alpha=0.5 will be ignored. Current value: lambda_l1=1.5\n",
      "[LightGBM] [Warning] lambda_l2 is set=1, reg_lambda=0.0 will be ignored. Current value: lambda_l2=1\n"
     ]
    }
   ],
   "source": [
    "import lightgbm as lgb\n",
    "from sklearn.metrics import accuracy_score\n",
    "from sklearn.model_selection import RandomizedSearchCV\n",
    "param_grid = {\n",
    "    'num_leaves': [31, 127],\n",
    "    'reg_alpha': [0.1, 0.5],\n",
    "    'min_data_in_leaf': [30, 50, 100, 300, 400],\n",
    "    'lambda_l1': [0, 1, 1.5],\n",
    "    'lambda_l2': [0, 1]\n",
    "    }   # how to choosse????????\n",
    "lgbm = lgb.LGBMClassifier()\n",
    "grid = RandomizedSearchCV(lgbm,param_grid ,refit=True,verbose=2)\n",
    "grid.fit(X_train_scaled, y_train)\n",
    "y_pred = grid.predict(X_test_scaled)"
   ]
  },
  {
   "cell_type": "code",
   "execution_count": null,
   "metadata": {},
   "outputs": [],
   "source": [
    "# compute and print accuracy score\n",
    "print('Model accuracy score with default hyperparameters: {0:0.4f}'. format(accuracy_score(y_test, y_pred)))\n",
    "print(\"\\n The best estimator across ALL searched params:\\n\",grid.best_estimator_)"
   ]
  },
  {
   "cell_type": "markdown",
   "metadata": {},
   "source": [
    "## Using best parameters to find important features"
   ]
  },
  {
   "cell_type": "code",
   "execution_count": null,
   "metadata": {},
   "outputs": [],
   "source": []
  }
 ],
 "metadata": {
  "kernelspec": {
   "display_name": "Python 3",
   "language": "python",
   "name": "python3"
  },
  "language_info": {
   "codemirror_mode": {
    "name": "ipython",
    "version": 3
   },
   "file_extension": ".py",
   "mimetype": "text/x-python",
   "name": "python",
   "nbconvert_exporter": "python",
   "pygments_lexer": "ipython3",
   "version": "3.8.5"
  }
 },
 "nbformat": 4,
 "nbformat_minor": 4
}
