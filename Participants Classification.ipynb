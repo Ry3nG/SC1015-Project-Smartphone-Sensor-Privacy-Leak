{
 "cells": [
  {
   "cell_type": "markdown",
   "metadata": {},
   "source": [
    "# Participants Classification based on Light-BGM model\n",
    "by GONG ZERUI 2022.04.21"
   ]
  },
  {
   "cell_type": "markdown",
   "metadata": {},
   "source": [
    "### 1. Load Libraries"
   ]
  },
  {
   "cell_type": "code",
   "execution_count": 2,
   "metadata": {},
   "outputs": [],
   "source": [
    "# import libraries\n",
    "import pandas as pd\n",
    "import numpy as np\n",
    "from numpy import pi \n",
    "from lightgbm import LGBMClassifier\n",
    "\n",
    "from sklearn.preprocessing import StandardScaler, LabelEncoder\n",
    "from sklearn.model_selection import train_test_split\n",
    "from sklearn.metrics import accuracy_score\n",
    "from sklearn.decomposition import PCA\n",
    "from sklearn.manifold import TSNE\n",
    "\n",
    "import matplotlib.pyplot as plt"
   ]
  },
  {
   "cell_type": "markdown",
   "metadata": {},
   "source": [
    "### 2. Load Data"
   ]
  },
  {
   "cell_type": "code",
   "execution_count": 3,
   "metadata": {},
   "outputs": [
    {
     "name": "stdout",
     "output_type": "stream",
     "text": [
      "Shape Train:\t(7352, 564)\n",
      "Shape Test:\t(2947, 564)\n",
      "\n"
     ]
    }
   ],
   "source": [
    "df_train = pd.read_csv(\"source/train.csv\")\n",
    "df_test = pd.read_csv(\"source/test.csv\")\n",
    "\n",
    "# combine both dataframes\n",
    "df_train['Data'] = 'Train'\n",
    "df_test['Data'] = 'Test'\n",
    "df_total = pd.concat([df_train,df_test], axis = 0).reset_index(drop = True)\n",
    "df_total['subject'] = '#' + df_total['subject'].astype(str)\n",
    "\n",
    "# create label\n",
    "activity_label = df_total.pop('Activity')\n",
    "\n",
    "print('Shape Train:\\t{}'.format(df_train.shape))\n",
    "print('Shape Test:\\t{}\\n'.format(df_test.shape))\n",
    "\n"
   ]
  },
  {
   "cell_type": "markdown",
   "metadata": {},
   "source": [
    "### 3. Classifying Participants data using Light-BGM model"
   ]
  },
  {
   "cell_type": "code",
   "execution_count": 6,
   "metadata": {},
   "outputs": [
    {
     "name": "stdout",
     "output_type": "stream",
     "text": [
      "Activity:LAYING\n",
      "Accuracy:\t0.66666667\n",
      "\n",
      "Activity:STANDING\n",
      "Accuracy:\t0.49685535\n",
      "\n",
      "Activity:SITTING\n",
      "Accuracy:\t0.44719101\n",
      "\n",
      "Activity:WALKING\n",
      "Accuracy:\t0.94663573\n",
      "\n",
      "Activity:WALKING_UPSTAIRS\n",
      "Accuracy:\t0.93005181\n",
      "\n",
      "Activity:WALKING_DOWNSTAIRS\n",
      "Accuracy:\t0.88352273\n",
      "\n"
     ]
    }
   ],
   "source": [
    "activity_label_counts = activity_label.value_counts()\n",
    "\n",
    "# iterate over each activity and print out the accuracy\n",
    "for activity in activity_label_counts.index:\n",
    "\n",
    "    activity_dataset = df_total[activity_label == activity].copy()\n",
    "    activity_dataset.pop(\"Data\")\n",
    "    activity_subject = activity_dataset.pop(\"subject\")\n",
    "\n",
    "    # scale data and dimension reducing\n",
    "    scl = StandardScaler()\n",
    "    activity_dataset = scl.fit_transform(activity_dataset)\n",
    "\n",
    "    pca = PCA(random_state=3)\n",
    "    activity_dataset = pca.fit_transform(activity_dataset)\n",
    "\n",
    "    # split train-test\n",
    "    enc = LabelEncoder()\n",
    "    label_encoded = enc.fit_transform(activity_subject)\n",
    "    X_train, X_test, y_train, y_test = train_test_split(\n",
    "        activity_dataset, label_encoded, random_state=3\n",
    "    )\n",
    "\n",
    "    # fit LBGM model\n",
    "    print('Activity:'+ str(activity))\n",
    "    lgbm = LGBMClassifier(n_estimators=1000, random_state = 3)\n",
    "    lgbm = lgbm.fit(X_train, y_train)\n",
    "    \n",
    "    score = accuracy_score(y_true=y_test, y_pred=lgbm.predict(X_test))\n",
    "    print('Accuracy:\\t{:.8f}\\n'.format(score))\n"
   ]
  },
  {
   "cell_type": "markdown",
   "metadata": {},
   "source": [
    "We can see that it's very accurate to detect the specific person based on their activity. And the accuracy is much higher for movement. (94.6% for walking) This suggests we can find a unique movement pattern for each individual."
   ]
  }
 ],
 "metadata": {
  "interpreter": {
   "hash": "fbc8aa4214fedb48b0b7e9159cb57cac96f213c2036602ef91c90215122c989b"
  },
  "kernelspec": {
   "display_name": "Python 3.10.2 64-bit",
   "language": "python",
   "name": "python3"
  },
  "language_info": {
   "codemirror_mode": {
    "name": "ipython",
    "version": 3
   },
   "file_extension": ".py",
   "mimetype": "text/x-python",
   "name": "python",
   "nbconvert_exporter": "python",
   "pygments_lexer": "ipython3",
   "version": "3.10.2"
  },
  "orig_nbformat": 4
 },
 "nbformat": 4,
 "nbformat_minor": 2
}
