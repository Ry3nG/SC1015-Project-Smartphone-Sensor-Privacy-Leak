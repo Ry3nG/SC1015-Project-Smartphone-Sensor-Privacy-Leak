{
 "cells": [
  {
   "cell_type": "markdown",
   "metadata": {},
   "source": [
    "# Part 2b. Random Forest Model on Activities (Include Hyperparameter tuning by RandomSearchCV)\n",
    "GONG ZERUI 04/14"
   ]
  },
  {
   "cell_type": "markdown",
   "metadata": {},
   "source": [
    "### 1. Load libraries"
   ]
  },
  {
   "cell_type": "code",
   "execution_count": 1,
   "metadata": {},
   "outputs": [],
   "source": [
    "import numpy as np\n",
    "import pandas as pd\n",
    "from sklearn.ensemble import RandomForestClassifier\n",
    "import pandas as pd\n",
    "from sklearn.ensemble import *\n",
    "from sklearn.tree import *\n",
    "import numpy as np\n",
    "import matplotlib.pyplot as plt\n",
    "from sklearn.feature_selection import *\n",
    "from sklearn.preprocessing import *\n",
    "from sklearn.model_selection import *\n",
    "from sklearn.linear_model import *\n",
    "from sklearn.naive_bayes import *\n",
    "from sklearn.svm import *\n",
    "from sklearn.neighbors import *\n",
    "from sklearn.tree import *\n",
    "from sklearn.metrics import *\n",
    "import time\n",
    "import warnings"
   ]
  },
  {
   "cell_type": "markdown",
   "metadata": {},
   "source": [
    "### 2. Split train-test datasets"
   ]
  },
  {
   "cell_type": "code",
   "execution_count": 2,
   "metadata": {},
   "outputs": [
    {
     "name": "stdout",
     "output_type": "stream",
     "text": [
      "X_train :  (7352, 561)\n",
      "y_train :  (7352,)\n",
      "X_test :  (2947, 561)\n",
      "y_test :  (2947,)\n"
     ]
    }
   ],
   "source": [
    "df_train = pd.read_csv(\"source/train.csv\")\n",
    "df_test = pd.read_csv(\"source/test.csv\")\n",
    "df_total = pd.concat([df_train, df_test])\n",
    "\n",
    "\n",
    "y_train = df_train.Activity\n",
    "X_train = df_train.drop(['subject', 'Activity'], axis=1)\n",
    "\n",
    "y_test = df_test.Activity\n",
    "X_test = df_test.drop(['subject', 'Activity'], axis=1)\n",
    "\n",
    "\n",
    "print('X_train : ', X_train.shape)\n",
    "print('y_train : ', y_train.shape)\n",
    "print('X_test : ', X_test.shape)\n",
    "print('y_test : ', y_test.shape)\n"
   ]
  },
  {
   "cell_type": "markdown",
   "metadata": {},
   "source": [
    "### 3. Build Random Forest Model with Hyperparameter Tuning (RandomizedSearchCV)"
   ]
  },
  {
   "cell_type": "code",
   "execution_count": 4,
   "metadata": {},
   "outputs": [],
   "source": [
    "# Number of trees in random forest\n",
    "n_estimators = [int(x) for x in np.linspace(start=10, stop=200, num=10)]\n",
    "\n",
    "# Maximum number of levels in tree\n",
    "max_depth = [int(x) for x in np.linspace(start=2, stop=50, num=2)]\n"
   ]
  },
  {
   "cell_type": "code",
   "execution_count": 5,
   "metadata": {},
   "outputs": [],
   "source": [
    "# Create the random grid\n",
    "param = {\n",
    "    \"n_estimators\": n_estimators,\n",
    "    \"max_depth\": max_depth,\n",
    "}\n",
    "\n",
    "rf_Model = RandomForestClassifier()\n",
    "\n",
    "from sklearn.model_selection import RandomizedSearchCV\n",
    "\n",
    "rf_rs = RandomizedSearchCV(\n",
    "    estimator=rf_Model, param_distributions=param, random_state = 42\n",
    ")"
   ]
  },
  {
   "cell_type": "code",
   "execution_count": 6,
   "metadata": {},
   "outputs": [
    {
     "data": {
      "text/plain": [
       "RandomizedSearchCV(estimator=RandomForestClassifier(),\n",
       "                   param_distributions={'max_depth': [2, 50],\n",
       "                                        'n_estimators': [10, 31, 52, 73, 94,\n",
       "                                                         115, 136, 157, 178,\n",
       "                                                         200]},\n",
       "                   random_state=42)"
      ]
     },
     "execution_count": 6,
     "metadata": {},
     "output_type": "execute_result"
    }
   ],
   "source": [
    "rf_rs.fit(X_train, y_train)"
   ]
  },
  {
   "cell_type": "markdown",
   "metadata": {},
   "source": [
    "### 4. Print out best random search parameters\n"
   ]
  },
  {
   "cell_type": "code",
   "execution_count": 7,
   "metadata": {},
   "outputs": [
    {
     "name": "stdout",
     "output_type": "stream",
     "text": [
      "Best estimator :  RandomForestClassifier(max_depth=50, n_estimators=115)\n",
      "Best set of parameters :  {'n_estimators': 115, 'max_depth': 50}\n"
     ]
    }
   ],
   "source": [
    "print(\"Best estimator : \", rf_rs.best_estimator_)\n",
    "print(\"Best set of parameters : \", rf_rs.best_params_)"
   ]
  },
  {
   "cell_type": "markdown",
   "metadata": {},
   "source": [
    "### 5. Print out Accuracy"
   ]
  },
  {
   "cell_type": "code",
   "execution_count": 8,
   "metadata": {},
   "outputs": [
    {
     "name": "stdout",
     "output_type": "stream",
     "text": [
      "Accuracy using Random forest with hyperparameter tuning :  0.9334916864608076\n"
     ]
    }
   ],
   "source": [
    "from sklearn.metrics import accuracy_score\n",
    "\n",
    "y_pred = rf_rs.predict(X_test)\n",
    "rf_accuracy = accuracy_score(y_true=y_test, y_pred=y_pred)\n",
    "print(\"Accuracy using Random forest with hyperparameter tuning : \", rf_accuracy)"
   ]
  },
  {
   "cell_type": "markdown",
   "metadata": {},
   "source": [
    "### 5. Print out confusion matrix"
   ]
  },
  {
   "cell_type": "code",
   "execution_count": 9,
   "metadata": {},
   "outputs": [
    {
     "data": {
      "image/png": "[encoded data removed]",
      "text/plain": [
       "<Figure size 864x576 with 2 Axes>"
      ]
     },
     "metadata": {
      "needs_background": "light"
     },
     "output_type": "display_data"
    }
   ],
   "source": [
    "from sklearn.metrics import confusion_matrix\n",
    "import matplotlib.pyplot as plt\n",
    "\n",
    "cm = confusion_matrix(y_test.values, y_pred)\n",
    "\n",
    "fig, ax = plt.subplots(figsize=(12, 8))\n",
    "im = ax.imshow(cm, cmap=plt.cm.Blues)\n",
    "ax.figure.colorbar(im, ax=ax)\n",
    "ax.set(\n",
    "    xticks=np.arange(cm.shape[1]),\n",
    "    yticks=np.arange(cm.shape[0]),\n",
    "    xticklabels=np.unique(y_pred),\n",
    "    yticklabels=np.unique(y_pred),\n",
    "    ylabel=\"True label\",\n",
    "    xlabel=\"Predicted label\",\n",
    ")\n",
    "plt.xticks(rotation = 90)\n",
    "thresh = cm.max() / 2.\n",
    "for i in range(cm.shape[0]):\n",
    "        for j in range(cm.shape[1]):\n",
    "            ax.text(j, i, int(cm[i, j]),ha=\"center\", va=\"center\",color=\"white\" if cm[i, j] > thresh else \"black\")\n",
    "fig.tight_layout()\n"
   ]
  },
  {
   "cell_type": "markdown",
   "metadata": {},
   "source": [
    "### 6. Find sorted feature list based on importance"
   ]
  },
  {
   "cell_type": "code",
   "execution_count": 17,
   "metadata": {},
   "outputs": [],
   "source": [
    "# print importance\n",
    "rf_Model = RandomForestClassifier(max_depth=50, n_estimators=157)\n",
    "rf_Model.fit(X_train, y_train)\n",
    "d = {'Parameter':X_train.columns,'FeatureImportance':rf_Model.feature_importances_}\n",
    "df_importance = pd.DataFrame(d)\n",
    "df_importance_sorted = df_importance.sort_values('FeatureImportance', ascending= False)"
   ]
  },
  {
   "cell_type": "markdown",
   "metadata": {},
   "source": [
    "### 7. Delete some features and re-test models"
   ]
  },
  {
   "cell_type": "markdown",
   "metadata": {},
   "source": [
    "### a.  Drop features in main feature group one by one "
   ]
  },
  {
   "cell_type": "code",
   "execution_count": 11,
   "metadata": {},
   "outputs": [
    {
     "name": "stdout",
     "output_type": "stream",
     "text": [
      "drop fBodyAcc:\n",
      "Model accuracy score: 0.9226\n",
      "drop fBodyGyro:\n",
      "Model accuracy score: 0.9104\n",
      "drop fBodyAccJerk:\n",
      "Model accuracy score: 0.9321\n",
      "drop tGravityAcc:\n",
      "Model accuracy score: 0.9369\n",
      "drop tBodyAcc:\n",
      "Model accuracy score: 0.9226\n",
      "drop tBodyGyroJerk:\n",
      "Model accuracy score: 0.9233\n",
      "drop tBodyGyro:\n",
      "Model accuracy score: 0.9169\n",
      "drop tBodyAccJerk:\n",
      "Model accuracy score: 0.9274\n",
      "drop tBodyAccMag:\n",
      "Model accuracy score: 0.9243\n",
      "drop tGravityAccMag:\n",
      "Model accuracy score: 0.9270\n",
      "drop tBodyAccJerkMag:\n",
      "Model accuracy score: 0.9237\n",
      "drop tBodyGyroMag:\n",
      "Model accuracy score: 0.9257\n",
      "drop tBodyGyroJerkMag:\n",
      "Model accuracy score: 0.9240\n",
      "drop fBodyAccMag:\n",
      "Model accuracy score: 0.9213\n",
      "drop fBodyBodyAccJerkMag:\n",
      "Model accuracy score: 0.9267\n",
      "drop fBodyBodyGyroMag:\n",
      "Model accuracy score: 0.9284\n",
      "drop fBodyBodyGyroJerkMag:\n",
      "Model accuracy score: 0.9284\n",
      "drop angle:\n",
      "Model accuracy score: 0.9365\n"
     ]
    }
   ],
   "source": [
    "main_feature_list = ['fBodyAcc','fBodyGyro','fBodyAccJerk','tGravityAcc','tBodyAcc','tBodyGyroJerk','tBodyGyro','tBodyAccJerk',\n",
    "                     'tBodyAccMag','tGravityAccMag','tBodyAccJerkMag','tBodyGyroMag','tBodyGyroJerkMag','fBodyAccMag',\n",
    "                     'fBodyBodyAccJerkMag','fBodyBodyGyroMag','fBodyBodyGyroJerkMag','angle']\n",
    "for feature in main_feature_list:\n",
    "    X_train_drop_main_feature = X_train.drop(list(X_train.filter(regex = feature)),axis=1)\n",
    "    X_test_drop_main_feature = X_test.drop(list(X_test.filter(regex = feature)),axis=1)\n",
    "    rf_Model_main = RandomForestClassifier(max_depth=50, n_estimators=157)\n",
    "    rf_Model_main.fit(X_train_drop_main_feature, y_train)\n",
    "    y_pred_drop_main =rf_Model_main.predict(X_test_drop_main_feature)\n",
    "    print(\"drop \" + feature + \":\")\n",
    "    print('Model accuracy score: {0:0.4f}'. format(accuracy_score(y_test, y_pred_drop_main)))"
   ]
  },
  {
   "cell_type": "markdown",
   "metadata": {},
   "source": [
    "### b. Drop top 10% of important features"
   ]
  },
  {
   "cell_type": "code",
   "execution_count": 12,
   "metadata": {},
   "outputs": [
    {
     "name": "stdout",
     "output_type": "stream",
     "text": [
      "Drop top 10%, model accuracy score: 0.9080\n"
     ]
    }
   ],
   "source": [
    "top10p_features = df_importance_sorted.head(56).Parameter\n",
    "X_train_afterDrop10p = X_train.drop(top10p_features,axis=1)\n",
    "X_test_afterDrop10p = X_test.drop(top10p_features,axis=1)\n",
    "rf_Model_drop10p = RandomForestClassifier(max_depth=50, n_estimators=157)\n",
    "rf_Model_drop10p.fit(X_train_afterDrop10p, y_train)\n",
    "y_pred_10p = rf_Model_drop10p.predict(X_test_afterDrop10p)\n",
    "print('Drop top 10%, model accuracy score: {0:0.4f}'. format(accuracy_score(y_test, y_pred_10p)))"
   ]
  },
  {
   "cell_type": "markdown",
   "metadata": {},
   "source": [
    "### c. Drop top 30% of important features"
   ]
  },
  {
   "cell_type": "code",
   "execution_count": 13,
   "metadata": {},
   "outputs": [
    {
     "name": "stdout",
     "output_type": "stream",
     "text": [
      "Drop top 30%, model accuracy score: 0.8751\n"
     ]
    }
   ],
   "source": [
    "top30p_features = df_importance_sorted.head(170).Parameter\n",
    "X_train_afterDrop30p = X_train.drop(top30p_features,axis=1)\n",
    "X_test_afterDrop30p = X_test.drop(top30p_features,axis=1)\n",
    "rf_Model_drop30p = RandomForestClassifier(max_depth=50, n_estimators=157)\n",
    "rf_Model_drop30p.fit(X_train_afterDrop30p, y_train)\n",
    "y_pred_30p = rf_Model_drop30p.predict(X_test_afterDrop30p)\n",
    "print('Drop top 30%, model accuracy score: {0:0.4f}'. format(accuracy_score(y_test, y_pred_30p)))"
   ]
  },
  {
   "cell_type": "markdown",
   "metadata": {},
   "source": [
    "### d. Drop top 50% of important features"
   ]
  },
  {
   "cell_type": "code",
   "execution_count": 16,
   "metadata": {},
   "outputs": [
    {
     "name": "stdout",
     "output_type": "stream",
     "text": [
      "Drop top 50%, model accuracy score: 0.7900\n"
     ]
    }
   ],
   "source": [
    "top50p_features = df_importance_sorted.head(280).Parameter\n",
    "X_train_afterDrop50p = X_train.drop(top50p_features,axis=1)\n",
    "X_test_afterDrop50p = X_test.drop(top50p_features,axis=1)\n",
    "rf_Model_drop50p = RandomForestClassifier(max_depth=50, n_estimators=157)\n",
    "rf_Model_drop50p.fit(X_train_afterDrop50p, y_train)\n",
    "y_pred_50p = rf_Model_drop50p.predict(X_test_afterDrop50p)\n",
    "print('Drop top 50%, model accuracy score: {0:0.4f}'. format(accuracy_score(y_test, y_pred_50p)))"
   ]
  },
  {
   "cell_type": "markdown",
   "metadata": {},
   "source": [
    "### e. Hide one sensor"
   ]
  },
  {
   "cell_type": "code",
   "execution_count": 15,
   "metadata": {},
   "outputs": [
    {
     "name": "stdout",
     "output_type": "stream",
     "text": [
      "drop Acc:\n",
      "Model accuracy score: 0.9074\n",
      "drop Gyro:\n",
      "Model accuracy score: 0.8853\n"
     ]
    }
   ],
   "source": [
    "main_feature_list = ['Acc','Gyro']\n",
    "for feature in main_feature_list:\n",
    "    X_train_drop_main_feature = X_train.drop(list(X_train.filter(regex = feature)),axis=1)\n",
    "    X_test_drop_main_feature = X_test.drop(list(X_test.filter(regex = feature)),axis=1)\n",
    "    rf_Model_main = RandomForestClassifier(max_depth=50, n_estimators=157)\n",
    "    rf_Model_main.fit(X_train_drop_main_feature, y_train)\n",
    "    y_pred_drop_main =rf_Model_main.predict(X_test_drop_main_feature)\n",
    "    print(\"drop \" + feature + \":\")\n",
    "    print('Model accuracy score: {0:0.4f}'. format(accuracy_score(y_test, y_pred_drop_main)))"
   ]
  },
  {
   "cell_type": "code",
   "execution_count": null,
   "metadata": {},
   "outputs": [],
   "source": []
  }
 ],
 "metadata": {
  "interpreter": {
   "hash": "fbc8aa4214fedb48b0b7e9159cb57cac96f213c2036602ef91c90215122c989b"
  },
  "kernelspec": {
   "display_name": "Python 3",
   "language": "python",
   "name": "python3"
  },
  "language_info": {
   "codemirror_mode": {
    "name": "ipython",
    "version": 3
   },
   "file_extension": ".py",
   "mimetype": "text/x-python",
   "name": "python",
   "nbconvert_exporter": "python",
   "pygments_lexer": "ipython3",
   "version": "3.8.5"
  }
 },
 "nbformat": 4,
 "nbformat_minor": 2
}
