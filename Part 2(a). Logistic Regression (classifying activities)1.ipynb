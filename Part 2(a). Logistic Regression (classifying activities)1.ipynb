{
 "cells": [
  {
   "cell_type": "markdown",
   "metadata": {},
   "source": [
    "# Part 2a. Logistic Regression(Classifying Activities)"
   ]
  },
  {
   "cell_type": "markdown",
   "metadata": {},
   "source": [
    "### 1. Load libraries"
   ]
  },
  {
   "cell_type": "code",
   "execution_count": null,
   "metadata": {},
   "outputs": [],
   "source": [
    "import numpy as np\n",
    "import pandas as pd\n",
    "import seaborn as sb\n",
    "import matplotlib.pyplot as plt\n",
    "\n",
    "\n",
    "import warnings\n",
    "warnings.filterwarnings(\"ignore\")"
   ]
  },
  {
   "cell_type": "markdown",
   "metadata": {},
   "source": [
    "### 2. Split train-test datasets"
   ]
  },
  {
   "cell_type": "code",
   "execution_count": null,
   "metadata": {},
   "outputs": [],
   "source": [
    "df_train = pd.read_csv(\"source/train.csv\")\n",
    "df_test = pd.read_csv(\"source/test.csv\")\n",
    "\n",
    "y_train = df_train.Activity\n",
    "x_train = df_train.drop(['subject', 'Activity'], axis=1)\n",
    "\n",
    "y_test = df_test.Activity\n",
    "x_test = df_test.drop(['subject', 'Activity'], axis=1)"
   ]
  },
  {
   "cell_type": "markdown",
   "metadata": {},
   "source": [
    "### 3. Build Logistic Regression before Hyperparameter Tuning"
   ]
  },
  {
   "cell_type": "code",
   "execution_count": null,
   "metadata": {},
   "outputs": [],
   "source": [
    "from sklearn.linear_model import LogisticRegression\n",
    "from sklearn.metrics import confusion_matrix\n",
    "\n",
    "logistic_model1 = LogisticRegression()\n",
    "logistic_model1.fit(x_train, y_train)\n",
    "y_pred = logistic_model1.predict(x_test)\n",
    "cm = confusion_matrix(y_test, y_pred)"
   ]
  },
  {
   "cell_type": "markdown",
   "metadata": {},
   "source": [
    "####  a) Accuracy"
   ]
  },
  {
   "cell_type": "code",
   "execution_count": null,
   "metadata": {},
   "outputs": [],
   "source": [
    "accuracy = logistic_model1.score(x_test, y_test)\n",
    "print(\"Accuracy:\",accuracy)"
   ]
  },
  {
   "cell_type": "markdown",
   "metadata": {},
   "source": [
    "#### b) Confusion Table"
   ]
  },
  {
   "cell_type": "code",
   "execution_count": null,
   "metadata": {},
   "outputs": [],
   "source": [
    "fig, ax = plt.subplots(figsize=(12, 8))\n",
    "ax.imshow(cm, cmap=plt.cm.Blues)\n",
    "ax.figure.colorbar(ax.imshow(cm, cmap=plt.cm.Blues), ax=ax)\n",
    "ax.set(\n",
    "    xticks=np.arange(cm.shape[1]),\n",
    "    yticks=np.arange(cm.shape[0]),\n",
    "    xticklabels=np.unique(y_pred),\n",
    "    yticklabels=np.unique(y_pred),\n",
    "    ylabel=\"True label\",\n",
    "    xlabel=\"Predicted label\",\n",
    ")\n",
    "plt.xticks(rotation = 90)\n",
    "thresh = cm.max() / 2.\n",
    "for i in range(cm.shape[0]):\n",
    "        for j in range(cm.shape[1]):\n",
    "            ax.text(j, i, int(cm[i, j]),ha=\"center\", va=\"center\",color=\"white\" if cm[i, j] > thresh else \"black\")"
   ]
  },
  {
   "cell_type": "markdown",
   "metadata": {},
   "source": [
    "### 4. Build Logistic Regression with Hyperparameter Tuning"
   ]
  },
  {
   "cell_type": "code",
   "execution_count": null,
   "metadata": {},
   "outputs": [],
   "source": [
    "from scipy.stats import loguniform\n",
    "from sklearn.model_selection import RandomizedSearchCV\n",
    "space = dict()\n",
    "space['solver'] = ['lbfgs']\n",
    "space['penalty'] = ['l1', 'l2']\n",
    "space['C'] = loguniform(1e-5, 10)\n",
    "search = RandomizedSearchCV(logistic_model1, space, n_iter=30, scoring='accuracy', n_jobs=-1, cv=5, random_state=1)\n",
    "hypermodel = search.fit(x_train,y_train)"
   ]
  },
  {
   "cell_type": "markdown",
   "metadata": {},
   "source": [
    "#### a) Accuracy"
   ]
  },
  {
   "cell_type": "code",
   "execution_count": null,
   "metadata": {},
   "outputs": [],
   "source": [
    "y_pred1 = hypermodel.predict(x_test)\n",
    "cm1 = confusion_matrix(y_test, y_pred1)\n",
    "accuracy = hypermodel.score(x_test, y_test)\n",
    "print(\"Accuracy:\",accuracy)"
   ]
  },
  {
   "cell_type": "markdown",
   "metadata": {},
   "source": [
    "#### b) Confusion Table"
   ]
  },
  {
   "cell_type": "code",
   "execution_count": null,
   "metadata": {},
   "outputs": [],
   "source": [
    "fig, ax = plt.subplots(figsize=(12, 8))\n",
    "ax.imshow(cm1, cmap=plt.cm.Blues)\n",
    "ax.figure.colorbar(ax.imshow(cm1, cmap=plt.cm.Blues), ax=ax)\n",
    "ax.set(\n",
    "    xticks=np.arange(cm1.shape[1]),\n",
    "    yticks=np.arange(cm1.shape[0]),\n",
    "    xticklabels=np.unique(y_pred1),\n",
    "    yticklabels=np.unique(y_pred1),\n",
    "    ylabel=\"True label\",\n",
    "    xlabel=\"Predicted label\",\n",
    ")\n",
    "plt.xticks(rotation = 90)\n",
    "thresh = cm1.max() / 2.\n",
    "for i in range(cm1.shape[0]):\n",
    "        for j in range(cm1.shape[1]):\n",
    "            ax.text(j, i, int(cm1[i, j]),ha=\"center\", va=\"center\",color=\"white\" if cm1[i, j] > thresh else \"black\")"
   ]
  },
  {
   "cell_type": "markdown",
   "metadata": {},
   "source": [
    "### 5. Finding out feature importance"
   ]
  },
  {
   "cell_type": "code",
   "execution_count": null,
   "metadata": {},
   "outputs": [],
   "source": [
    "import math\n",
    "w=logistic_model1.coef_[0]\n",
    "df2 = pd.DataFrame(df_train.columns, columns = [\"feature\"])\n",
    "logistic_feature_importance = df2[:-2]\n",
    "logistic_feature_importance[\"importance\"] = pow(math.e, w)\n",
    "logistic_feature_importance = logistic_feature_importance.sort_values(by = [\"importance\"], ascending=False)\n",
    "sb.barplot(x=\"importance\", y=\"feature\", data=feature_imp.sort_values(by=\"importance\", ascending=False).head(30))\n",
    "plt.title('LightGBM Features (avg over folds)')\n",
    "plt.tight_layout()\n",
    "plt.show()"
   ]
  },
  {
   "cell_type": "markdown",
   "metadata": {},
   "source": [
    "### 6. Grouping similiar feature, dropping them one by one and testing accuracy"
   ]
  },
  {
   "cell_type": "code",
   "execution_count": null,
   "metadata": {},
   "outputs": [],
   "source": [
    "main_feature_list = ['fBodyAcc','fBodyGyro','fBodyAccJerk','tGravityAcc','tBodyAcc','tBodyGyroJerk','tBodyGyro','tBodyAccJerk',\n",
    "                     'tBodyAccMag','tGravityAccMag','tBodyAccJerkMag','tBodyGyroMag','tBodyGyroJerkMag','fBodyAccMag',\n",
    "                     'fBodyBodyAccJerkMag','fBodyBodyGyroMag','fBodyBodyGyroJerkMag','angle']\n",
    "for feature in main_feature_list:\n",
    "    print(\"drop \" + feature)\n",
    "    X_train_drop_main_feature = x_train.drop(list(x_train.filter(regex = feature)),axis=1)\n",
    "    X_test_drop_main_feature = x_test.drop(list(x_test.filter(regex = feature)),axis=1)\n",
    "\n",
    "    logistic_model2 = LogisticRegression()\n",
    "    logistic_model2.fit(X_train_drop_main_feature, y_train)\n",
    "    y_pred = logistic_model2.predict(X_test_drop_main_feature)\n",
    "    accuracy = logistic_model2.score(X_test_drop_main_feature, y_test)\n",
    "    print(\"Accuracy after removing current main feature:\",accuracy)\n",
    "    print(\"\\n\")"
   ]
  },
  {
   "cell_type": "markdown",
   "metadata": {},
   "source": [
    "### 7. Accuracy after removing top 10% feature importance"
   ]
  },
  {
   "cell_type": "code",
   "execution_count": null,
   "metadata": {},
   "outputs": [],
   "source": [
    "top10p_features = logistic_feature_importance.sort_values(by=\"importance\", ascending=False).head(56)\n",
    "x_train_afterDrop10p = x_train.drop(top10p_features[\"feature\"],axis=1)\n",
    "x_test_afterDrop10p = x_test.drop(top10p_features[\"feature\"],axis=1)\n",
    "\n",
    "hypermodel3 = search.fit(x_train_afterDrop10p,y_train)\n",
    "accuracy = hypermodel3.score(x_test_afterDrop10p, y_test)\n",
    "print(\"Accuracy after removing top 10 percent feature importance:\",accuracy)"
   ]
  },
  {
   "cell_type": "markdown",
   "metadata": {},
   "source": [
    "### 8. Accuracy after removing top 30% feature importance"
   ]
  },
  {
   "cell_type": "code",
   "execution_count": null,
   "metadata": {},
   "outputs": [],
   "source": [
    "top30p_features = logistic_feature_importance.sort_values(by=\"importance\", ascending=False).head(170)\n",
    "x_train_afterDrop30p = x_train.drop(top30p_features[\"feature\"],axis=1)\n",
    "x_test_afterDrop30p = x_test.drop(top30p_features[\"feature\"],axis=1)\n",
    "\n",
    "hypermodel4 = search.fit(x_train_afterDrop30p,y_train)\n",
    "accuracy = hypermodel4.score(x_test_afterDrop30p, y_test)\n",
    "print(\"Accuracy after removing top 30 percent feature importance:\",accuracy)"
   ]
  },
  {
   "cell_type": "markdown",
   "metadata": {},
   "source": [
    "### 9. Accuracy after removing top 50% feature importance"
   ]
  },
  {
   "cell_type": "code",
   "execution_count": null,
   "metadata": {},
   "outputs": [],
   "source": [
    "top50p_features = logistic_feature_importance.sort_values(by=\"importance\", ascending=False).head(280)\n",
    "x_train_afterDrop50p = x_train.drop(top50p_features[\"feature\"],axis=1)\n",
    "x_test_afterDrop50p = x_test.drop(top50p_features[\"feature\"],axis=1)\n",
    "\n",
    "hypermodel5 = search.fit(x_train_afterDrop50p,y_train)\n",
    "accuracy = hypermodel5.score(x_test_afterDrop50p, y_test)\n",
    "print(\"Accuracy after removing top 50 percent feature importance:\",accuracy)"
   ]
  },
  {
   "cell_type": "markdown",
   "metadata": {},
   "source": [
    "### 10. Retesting by completely removing accelerometer"
   ]
  },
  {
   "cell_type": "code",
   "execution_count": null,
   "metadata": {},
   "outputs": [],
   "source": [
    "\n",
    "x_train_DropAcc = df_train.drop(['subject', 'Activity'], axis=1)\n",
    "x_train_DropAcc = x_train_DropAcc[x_train_DropAcc.columns.drop(list(x_train_DropAcc.filter(regex='Acc')))]\n",
    "x_test_DropAcc = df_test.drop(['subject', 'Activity'], axis=1)\n",
    "x_test_DropAcc = x_test_DropAcc[x_test_DropAcc.columns.drop(list(x_test_DropAcc.filter(regex='Acc')))]\n",
    "\n",
    "hypermodel7 = search.fit(x_train_DropAcc,y_train)\n",
    "accuracy = hypermodel7.score(x_test_DropAcc, y_test)\n",
    "print(\"Acccuracy after removing accelerometer data:\",accuracy)\n"
   ]
  },
  {
   "cell_type": "markdown",
   "metadata": {},
   "source": [
    "### 11. Retesting by completely removing gyroscope"
   ]
  },
  {
   "cell_type": "code",
   "execution_count": null,
   "metadata": {},
   "outputs": [],
   "source": [
    "x_train_DropGyro = df_train.drop(['subject', 'Activity'], axis=1)\n",
    "x_train_DropGyro = x_train_DropGyro[x_train_DropGyro.columns.drop(list(x_train_DropGyro.filter(regex='Gyro')))]\n",
    "x_test_DropGyro = df_test.drop(['subject', 'Activity'], axis=1)\n",
    "x_test_DropGyro = x_test_DropGyro[x_test_DropGyro.columns.drop(list(x_test_DropGyro.filter(regex='Gyro')))]\n",
    "\n",
    "hypermodel8 = search.fit(x_train_DropGyro,y_train)\n",
    "accuracy = hypermodel8.score(x_test_DropGyro, y_test)\n",
    "print(\"Acccuracy after removing gyroscope data:\",accuracy)"
   ]
  }
 ],
 "metadata": {
  "interpreter": {
   "hash": "b3ba2566441a7c06988d0923437866b63cedc61552a5af99d1f4fb67d367b25f"
  },
  "kernelspec": {
   "display_name": "Python 3",
   "language": "python",
   "name": "python3"
  },
  "language_info": {
   "codemirror_mode": {
    "name": "ipython",
    "version": 3
   },
   "file_extension": ".py",
   "mimetype": "text/x-python",
   "name": "python",
   "nbconvert_exporter": "python",
   "pygments_lexer": "ipython3",
   "version": "3.8.5"
  }
 },
 "nbformat": 4,
 "nbformat_minor": 2
}
