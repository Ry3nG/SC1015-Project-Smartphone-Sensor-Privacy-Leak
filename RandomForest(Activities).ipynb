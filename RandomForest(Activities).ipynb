{
 "cells": [
  {
   "cell_type": "markdown",
   "metadata": {},
   "source": [
    "# Random Forest Model on Activities (Include Hyperparameter tuning by RandomSearchCV)\n",
    "GONG ZERUI 04/14"
   ]
  },
  {
   "cell_type": "markdown",
   "metadata": {},
   "source": [
    "### 1. Load libraries"
   ]
  },
  {
   "cell_type": "code",
   "execution_count": 2,
   "metadata": {},
   "outputs": [],
   "source": [
    "import numpy as np\n",
    "import pandas as pd\n",
    "from sklearn.ensemble import RandomForestClassifier\n",
    "import pandas as pd\n",
    "from sklearn.ensemble import *\n",
    "from sklearn.tree import *\n",
    "import numpy as np\n",
    "import matplotlib.pyplot as plt\n",
    "from sklearn.feature_selection import *\n",
    "from sklearn.preprocessing import *\n",
    "from sklearn.model_selection import *\n",
    "from sklearn.linear_model import *\n",
    "from sklearn.naive_bayes import *\n",
    "from sklearn.svm import *\n",
    "from sklearn.neighbors import *\n",
    "from sklearn.tree import *\n",
    "from sklearn.metrics import *\n",
    "import time\n",
    "import warnings"
   ]
  },
  {
   "cell_type": "markdown",
   "metadata": {},
   "source": [
    "### 2. Split train-test datasets"
   ]
  },
  {
   "cell_type": "code",
   "execution_count": 3,
   "metadata": {},
   "outputs": [
    {
     "name": "stdout",
     "output_type": "stream",
     "text": [
      "X_train :  (7352, 561)\n",
      "y_train :  (7352,)\n",
      "X_test :  (2947, 561)\n",
      "y_test :  (2947,)\n"
     ]
    }
   ],
   "source": [
    "df_train = pd.read_csv(\"source/train.csv\")\n",
    "df_test = pd.read_csv(\"source/test.csv\")\n",
    "df_total = pd.concat([df_train, df_test])\n",
    "\n",
    "\n",
    "y_train = df_train.Activity\n",
    "X_train = df_train.drop(['subject', 'Activity'], axis=1)\n",
    "\n",
    "y_test = df_test.Activity\n",
    "X_test = df_test.drop(['subject', 'Activity'], axis=1)\n",
    "\n",
    "\n",
    "print('X_train : ', X_train.shape)\n",
    "print('y_train : ', y_train.shape)\n",
    "print('X_test : ', X_test.shape)\n",
    "print('y_test : ', y_test.shape)\n"
   ]
  },
  {
   "cell_type": "markdown",
   "metadata": {},
   "source": [
    "### 3. Build Random Forest Model with Hyperparameter Tuning (RandomizedSearchCV)"
   ]
  },
  {
   "cell_type": "code",
   "execution_count": 4,
   "metadata": {},
   "outputs": [],
   "source": [
    "# Number of trees in random forest\n",
    "n_estimators = [int(x) for x in np.linspace(start=10, stop=200, num=10)]\n",
    "\n",
    "# Maximum number of levels in tree\n",
    "max_depth = [int(x) for x in np.linspace(start=2, stop=50, num=2)]\n"
   ]
  },
  {
   "cell_type": "code",
   "execution_count": 5,
   "metadata": {},
   "outputs": [],
   "source": [
    "# Create the random grid\n",
    "param = {\n",
    "    \"n_estimators\": n_estimators,\n",
    "    \"max_depth\": max_depth,\n",
    "}\n",
    "\n",
    "rf_Model = RandomForestClassifier()\n",
    "\n",
    "from sklearn.model_selection import RandomizedSearchCV\n",
    "\n",
    "rf_rs = RandomizedSearchCV(\n",
    "    estimator=rf_Model, param_distributions=param, random_state = 42\n",
    ")\n"
   ]
  },
  {
   "cell_type": "code",
   "execution_count": 6,
   "metadata": {},
   "outputs": [
    {
     "data": {
      "text/plain": [
       "RandomizedSearchCV(estimator=RandomForestClassifier(),\n",
       "                   param_distributions={'max_depth': [2, 50],\n",
       "                                        'n_estimators': [10, 31, 52, 73, 94,\n",
       "                                                         115, 136, 157, 178,\n",
       "                                                         200]},\n",
       "                   random_state=42)"
      ]
     },
     "execution_count": 6,
     "metadata": {},
     "output_type": "execute_result"
    }
   ],
   "source": [
    "rf_rs.fit(X_train, y_train)"
   ]
  },
  {
   "cell_type": "markdown",
   "metadata": {},
   "source": [
    "### 4. Print out best random search parameters\n"
   ]
  },
  {
   "cell_type": "code",
   "execution_count": 7,
   "metadata": {},
   "outputs": [
    {
     "name": "stdout",
     "output_type": "stream",
     "text": [
      "Best estimator :  RandomForestClassifier(max_depth=50, n_estimators=178)\n",
      "Best set of parameters :  {'n_estimators': 178, 'max_depth': 50}\n"
     ]
    }
   ],
   "source": [
    "print(\"Best estimator : \", rf_rs.best_estimator_)\n",
    "print(\"Best set of parameters : \", rf_rs.best_params_)"
   ]
  },
  {
   "cell_type": "markdown",
   "metadata": {},
   "source": [
    "### 5. Print out Accuracy and FEATURE IMPORTANCE"
   ]
  },
  {
   "cell_type": "code",
   "execution_count": 8,
   "metadata": {},
   "outputs": [
    {
     "name": "stdout",
     "output_type": "stream",
     "text": [
      "Accuracy using Random forest with hyperparameter tuning :  0.9260264675941635\n"
     ]
    }
   ],
   "source": [
    "from sklearn.metrics import accuracy_score\n",
    "\n",
    "y_pred = rf_rs.predict(X_test)\n",
    "rf_accuracy = accuracy_score(y_true=y_test, y_pred=y_pred)\n",
    "print(\"Accuracy using Random forest with hyperparameter tuning : \", rf_accuracy)"
   ]
  },
  {
   "cell_type": "code",
   "execution_count": 29,
   "metadata": {},
   "outputs": [
    {
     "data": {
      "text/html": [
       "<div>\n",
       "<style scoped>\n",
       "    .dataframe tbody tr th:only-of-type {\n",
       "        vertical-align: middle;\n",
       "    }\n",
       "\n",
       "    .dataframe tbody tr th {\n",
       "        vertical-align: top;\n",
       "    }\n",
       "\n",
       "    .dataframe thead th {\n",
       "        text-align: right;\n",
       "    }\n",
       "</style>\n",
       "<table border=\"1\" class=\"dataframe\">\n",
       "  <thead>\n",
       "    <tr style=\"text-align: right;\">\n",
       "      <th></th>\n",
       "      <th>Parameter</th>\n",
       "      <th>FeatureImportance</th>\n",
       "    </tr>\n",
       "  </thead>\n",
       "  <tbody>\n",
       "    <tr>\n",
       "      <th>0</th>\n",
       "      <td>tBodyAcc-mean()-X</td>\n",
       "      <td>0.000166</td>\n",
       "    </tr>\n",
       "    <tr>\n",
       "      <th>1</th>\n",
       "      <td>tBodyAcc-mean()-Y</td>\n",
       "      <td>0.000253</td>\n",
       "    </tr>\n",
       "    <tr>\n",
       "      <th>2</th>\n",
       "      <td>tBodyAcc-mean()-Z</td>\n",
       "      <td>0.000160</td>\n",
       "    </tr>\n",
       "    <tr>\n",
       "      <th>3</th>\n",
       "      <td>tBodyAcc-std()-X</td>\n",
       "      <td>0.004047</td>\n",
       "    </tr>\n",
       "    <tr>\n",
       "      <th>4</th>\n",
       "      <td>tBodyAcc-std()-Y</td>\n",
       "      <td>0.000337</td>\n",
       "    </tr>\n",
       "    <tr>\n",
       "      <th>5</th>\n",
       "      <td>tBodyAcc-std()-Z</td>\n",
       "      <td>0.000350</td>\n",
       "    </tr>\n",
       "    <tr>\n",
       "      <th>6</th>\n",
       "      <td>tBodyAcc-mad()-X</td>\n",
       "      <td>0.005593</td>\n",
       "    </tr>\n",
       "    <tr>\n",
       "      <th>7</th>\n",
       "      <td>tBodyAcc-mad()-Y</td>\n",
       "      <td>0.000575</td>\n",
       "    </tr>\n",
       "    <tr>\n",
       "      <th>8</th>\n",
       "      <td>tBodyAcc-mad()-Z</td>\n",
       "      <td>0.000523</td>\n",
       "    </tr>\n",
       "    <tr>\n",
       "      <th>9</th>\n",
       "      <td>tBodyAcc-max()-X</td>\n",
       "      <td>0.007651</td>\n",
       "    </tr>\n",
       "    <tr>\n",
       "      <th>10</th>\n",
       "      <td>tBodyAcc-max()-Y</td>\n",
       "      <td>0.000313</td>\n",
       "    </tr>\n",
       "    <tr>\n",
       "      <th>11</th>\n",
       "      <td>tBodyAcc-max()-Z</td>\n",
       "      <td>0.000328</td>\n",
       "    </tr>\n",
       "    <tr>\n",
       "      <th>12</th>\n",
       "      <td>tBodyAcc-min()-X</td>\n",
       "      <td>0.000437</td>\n",
       "    </tr>\n",
       "    <tr>\n",
       "      <th>13</th>\n",
       "      <td>tBodyAcc-min()-Y</td>\n",
       "      <td>0.000214</td>\n",
       "    </tr>\n",
       "    <tr>\n",
       "      <th>14</th>\n",
       "      <td>tBodyAcc-min()-Z</td>\n",
       "      <td>0.000251</td>\n",
       "    </tr>\n",
       "    <tr>\n",
       "      <th>15</th>\n",
       "      <td>tBodyAcc-sma()</td>\n",
       "      <td>0.000657</td>\n",
       "    </tr>\n",
       "    <tr>\n",
       "      <th>16</th>\n",
       "      <td>tBodyAcc-energy()-X</td>\n",
       "      <td>0.002135</td>\n",
       "    </tr>\n",
       "    <tr>\n",
       "      <th>17</th>\n",
       "      <td>tBodyAcc-energy()-Y</td>\n",
       "      <td>0.000485</td>\n",
       "    </tr>\n",
       "    <tr>\n",
       "      <th>18</th>\n",
       "      <td>tBodyAcc-energy()-Z</td>\n",
       "      <td>0.000480</td>\n",
       "    </tr>\n",
       "    <tr>\n",
       "      <th>19</th>\n",
       "      <td>tBodyAcc-iqr()-X</td>\n",
       "      <td>0.001037</td>\n",
       "    </tr>\n",
       "    <tr>\n",
       "      <th>20</th>\n",
       "      <td>tBodyAcc-iqr()-Y</td>\n",
       "      <td>0.000443</td>\n",
       "    </tr>\n",
       "    <tr>\n",
       "      <th>21</th>\n",
       "      <td>tBodyAcc-iqr()-Z</td>\n",
       "      <td>0.000309</td>\n",
       "    </tr>\n",
       "    <tr>\n",
       "      <th>22</th>\n",
       "      <td>tBodyAcc-entropy()-X</td>\n",
       "      <td>0.001368</td>\n",
       "    </tr>\n",
       "    <tr>\n",
       "      <th>23</th>\n",
       "      <td>tBodyAcc-entropy()-Y</td>\n",
       "      <td>0.000236</td>\n",
       "    </tr>\n",
       "    <tr>\n",
       "      <th>24</th>\n",
       "      <td>tBodyAcc-entropy()-Z</td>\n",
       "      <td>0.000255</td>\n",
       "    </tr>\n",
       "    <tr>\n",
       "      <th>25</th>\n",
       "      <td>tBodyAcc-arCoeff()-X,1</td>\n",
       "      <td>0.000389</td>\n",
       "    </tr>\n",
       "    <tr>\n",
       "      <th>26</th>\n",
       "      <td>tBodyAcc-arCoeff()-X,2</td>\n",
       "      <td>0.000206</td>\n",
       "    </tr>\n",
       "    <tr>\n",
       "      <th>27</th>\n",
       "      <td>tBodyAcc-arCoeff()-X,3</td>\n",
       "      <td>0.000123</td>\n",
       "    </tr>\n",
       "    <tr>\n",
       "      <th>28</th>\n",
       "      <td>tBodyAcc-arCoeff()-X,4</td>\n",
       "      <td>0.000242</td>\n",
       "    </tr>\n",
       "    <tr>\n",
       "      <th>29</th>\n",
       "      <td>tBodyAcc-arCoeff()-Y,1</td>\n",
       "      <td>0.000286</td>\n",
       "    </tr>\n",
       "  </tbody>\n",
       "</table>\n",
       "</div>"
      ],
      "text/plain": [
       "                 Parameter  FeatureImportance\n",
       "0        tBodyAcc-mean()-X           0.000166\n",
       "1        tBodyAcc-mean()-Y           0.000253\n",
       "2        tBodyAcc-mean()-Z           0.000160\n",
       "3         tBodyAcc-std()-X           0.004047\n",
       "4         tBodyAcc-std()-Y           0.000337\n",
       "5         tBodyAcc-std()-Z           0.000350\n",
       "6         tBodyAcc-mad()-X           0.005593\n",
       "7         tBodyAcc-mad()-Y           0.000575\n",
       "8         tBodyAcc-mad()-Z           0.000523\n",
       "9         tBodyAcc-max()-X           0.007651\n",
       "10        tBodyAcc-max()-Y           0.000313\n",
       "11        tBodyAcc-max()-Z           0.000328\n",
       "12        tBodyAcc-min()-X           0.000437\n",
       "13        tBodyAcc-min()-Y           0.000214\n",
       "14        tBodyAcc-min()-Z           0.000251\n",
       "15          tBodyAcc-sma()           0.000657\n",
       "16     tBodyAcc-energy()-X           0.002135\n",
       "17     tBodyAcc-energy()-Y           0.000485\n",
       "18     tBodyAcc-energy()-Z           0.000480\n",
       "19        tBodyAcc-iqr()-X           0.001037\n",
       "20        tBodyAcc-iqr()-Y           0.000443\n",
       "21        tBodyAcc-iqr()-Z           0.000309\n",
       "22    tBodyAcc-entropy()-X           0.001368\n",
       "23    tBodyAcc-entropy()-Y           0.000236\n",
       "24    tBodyAcc-entropy()-Z           0.000255\n",
       "25  tBodyAcc-arCoeff()-X,1           0.000389\n",
       "26  tBodyAcc-arCoeff()-X,2           0.000206\n",
       "27  tBodyAcc-arCoeff()-X,3           0.000123\n",
       "28  tBodyAcc-arCoeff()-X,4           0.000242\n",
       "29  tBodyAcc-arCoeff()-Y,1           0.000286"
      ]
     },
     "execution_count": 29,
     "metadata": {},
     "output_type": "execute_result"
    }
   ],
   "source": [
    "# print importance\n",
    "rf_Model = RandomForestClassifier(max_depth=50, n_estimators=157)\n",
    "rf_Model.fit(X_train, y_train)\n",
    "d = {'Parameter':X_train.columns,'FeatureImportance':rf_Model.feature_importances_}\n",
    "df_importance = pd.DataFrame(d)\n",
    "df_importance.head(30)"
   ]
  },
  {
   "cell_type": "code",
   "execution_count": 111,
   "metadata": {},
   "outputs": [],
   "source": [
    "df_importance_sorted = df_importance.sort_values('FeatureImportance', ascending= False)\n",
    "df_importance_sorted.head(30)\n",
    "\n",
    "df_top30 = df_importance_sorted.head(30).reset_index(drop =True)\n",
    "df_top200 = df_importance_sorted.head(200).reset_index(drop =True)\n"
   ]
  },
  {
   "cell_type": "markdown",
   "metadata": {},
   "source": [
    "### 6. Print out confusion matrix"
   ]
  },
  {
   "cell_type": "code",
   "execution_count": 11,
   "metadata": {},
   "outputs": [
    {
     "data": {
      "image/png": "[encoded data removed]",
      "text/plain": [
       "<Figure size 864x576 with 2 Axes>"
      ]
     },
     "metadata": {
      "needs_background": "light"
     },
     "output_type": "display_data"
    }
   ],
   "source": [
    "from sklearn.metrics import confusion_matrix\n",
    "import matplotlib.pyplot as plt\n",
    "\n",
    "cm = confusion_matrix(y_test.values, y_pred)\n",
    "\n",
    "fig, ax = plt.subplots(figsize=(12, 8))\n",
    "im = ax.imshow(cm, cmap=plt.cm.Blues)\n",
    "ax.figure.colorbar(im, ax=ax)\n",
    "ax.set(\n",
    "    xticks=np.arange(cm.shape[1]),\n",
    "    yticks=np.arange(cm.shape[0]),\n",
    "    xticklabels=np.unique(y_pred),\n",
    "    yticklabels=np.unique(y_pred),\n",
    "    ylabel=\"True label\",\n",
    "    xlabel=\"Predicted label\",\n",
    ")\n",
    "plt.xticks(rotation = 90)\n",
    "thresh = cm.max() / 2.\n",
    "for i in range(cm.shape[0]):\n",
    "        for j in range(cm.shape[1]):\n",
    "            ax.text(j, i, int(cm[i, j]),ha=\"center\", va=\"center\",color=\"white\" if cm[i, j] > thresh else \"black\")\n",
    "fig.tight_layout()\n",
    "\n",
    "\n",
    "\n"
   ]
  },
  {
   "cell_type": "markdown",
   "metadata": {},
   "source": [
    "### 7. Delete important features and re-test models"
   ]
  },
  {
   "cell_type": "code",
   "execution_count": 107,
   "metadata": {},
   "outputs": [
    {
     "data": {
      "text/plain": [
       "['angle(X,gravityMean)',\n",
       " 'tGravityAcc-energy()-Y',\n",
       " 'tGravityAcc-max()-Y',\n",
       " 'tGravityAcc-mean()-Y',\n",
       " 'tGravityAcc-energy()-Z',\n",
       " 'tGravityAcc-min()-Y',\n",
       " 'tGravityAcc-max()-Z']"
      ]
     },
     "execution_count": 107,
     "metadata": {},
     "output_type": "execute_result"
    }
   ],
   "source": [
    "logisticRegression_top30Feature = [\n",
    "    \"angle(X,gravityMean)\",\n",
    "    \"tGravityAcc-energy()-Y\",\n",
    "    \"tGravityAcc-max()-Y\",\n",
    "    \"tGravityAcc-mean()-Y\",\n",
    "    \"tGravityAcc-energy()-Z\",\n",
    "    \"tGravityAcc-min()-Y\",\n",
    "    \"tBodyAcc-correlation()-X,Y\",\n",
    "    \"fBodyGyro-meanFreq()-Y\",\n",
    "    \"fBodyGyro-kurtosis()-X\",\n",
    "    \"tGravityAcc-entropy()-Y\",\n",
    "    \"tBodyGyro-correlation()-Y,Z\",\n",
    "    \"tBodyAccJerk-correlation()-X,Z\",\n",
    "    \"tBodyAcc-correlation()-X,Z\",\n",
    "    \"fBodyGyro-kurtosis()-Y\",\n",
    "    \"tGravityAcc-iqr()-X\",\n",
    "    \"fBodyGyro-skewness()-X\",\n",
    "    \"tGravityAcc-mad()-X\",\n",
    "    \"tGravityAcc-std()-X\",\n",
    "    \"fBodyAccJerk-maxInds-Y\",\n",
    "    \"fBodyGyro-meanFreq()-Z\",\n",
    "    \"tBodyGyroJerk-arCoeff()-Y,1\",\n",
    "    \"fBodyAcc-meanFreq()-X\",\n",
    "    \"tBodyGyroJerk-arCoeff()-X,1\",\n",
    "    \"fBodyGyro-meanFreq()-X\",\n",
    "    \"tGravityAcc-max()-Z\",\n",
    "    \"tBodyGyroJerk-arCoeff()-Y,2\",\n",
    "    \"tBodyGyro-arCoeff()-X,1\",\n",
    "    \"tBodyAccJerk-correlation()-X,Y\",\n",
    "    \"tBodyGyroJerk-arCoeff()-Y,3\",\n",
    "    \"fBodyAccMag-max()\",\n",
    "]\n",
    "\n",
    "randomForest_top30Feature = []\n",
    "for param in df_top30['Parameter']:\n",
    "    randomForest_top30Feature.append(param)\n",
    "\n",
    "randomForest_top200Feature = []\n",
    "for param in df_top200['Parameter']:\n",
    "    randomForest_top200Feature.append(param)\n",
    "\n",
    "top_feature_mutual = []\n",
    "for param in logisticRegression_top30Feature:\n",
    "    if param in randomForest_top30Feature:\n",
    "        top_feature_mutual.append(param)\n",
    "\n",
    "top_feature_mutual"
   ]
  },
  {
   "cell_type": "markdown",
   "metadata": {},
   "source": [
    "* Load data and exclude top features"
   ]
  },
  {
   "cell_type": "code",
   "execution_count": 120,
   "metadata": {},
   "outputs": [
    {
     "name": "stdout",
     "output_type": "stream",
     "text": [
      "X_train :  (7352, 216)\n",
      "y_train :  (7352,)\n",
      "X_test :  (2947, 216)\n",
      "y_test :  (2947,)\n"
     ]
    }
   ],
   "source": [
    "df_train_retest = df_train.copy()\n",
    "df_test_retest = df_test.copy()\n",
    "\n",
    "for param in df_importance_sorted['Parameter']:\n",
    "    if 'Acc' in param: \n",
    "        df_train_retest.pop(param)\n",
    "        df_test_retest.pop(param)\n",
    "\n",
    "\n",
    "y_train = df_train_retest.Activity\n",
    "X_train = df_train_retest.drop(['subject', 'Activity'], axis=1)\n",
    "\n",
    "y_test = df_test_retest.Activity\n",
    "X_test = df_test_retest.drop(['subject', 'Activity'], axis=1)\n",
    "\n",
    "print('X_train : ', X_train.shape)\n",
    "print('y_train : ', y_train.shape)\n",
    "print('X_test : ', X_test.shape)\n",
    "print('y_test : ', y_test.shape)"
   ]
  },
  {
   "cell_type": "markdown",
   "metadata": {},
   "source": [
    "* Build RandomForest model"
   ]
  },
  {
   "cell_type": "code",
   "execution_count": 121,
   "metadata": {},
   "outputs": [
    {
     "data": {
      "text/plain": [
       "RandomForestClassifier(max_depth=50, n_estimators=157)"
      ]
     },
     "execution_count": 121,
     "metadata": {},
     "output_type": "execute_result"
    }
   ],
   "source": [
    "rf_Model_retest = RandomForestClassifier(max_depth=50, n_estimators=157)\n",
    "rf_Model_retest.fit(X_train, y_train)"
   ]
  },
  {
   "cell_type": "markdown",
   "metadata": {},
   "source": [
    "* Print Accuracy"
   ]
  },
  {
   "cell_type": "code",
   "execution_count": 122,
   "metadata": {},
   "outputs": [
    {
     "name": "stdout",
     "output_type": "stream",
     "text": [
      "Accuracy after deleting important features :  0.9107567017305734\n"
     ]
    }
   ],
   "source": [
    "y_pred = rf_Model_retest.predict(X_test)\n",
    "rf_accuracy_retest = accuracy_score(y_true=y_test, y_pred=y_pred)\n",
    "print(\"Accuracy after deleting important features : \", rf_accuracy_retest)"
   ]
  }
 ],
 "metadata": {
  "interpreter": {
   "hash": "fbc8aa4214fedb48b0b7e9159cb57cac96f213c2036602ef91c90215122c989b"
  },
  "kernelspec": {
   "display_name": "Python 3.10.2 64-bit",
   "language": "python",
   "name": "python3"
  },
  "language_info": {
   "codemirror_mode": {
    "name": "ipython",
    "version": 3
   },
   "file_extension": ".py",
   "mimetype": "text/x-python",
   "name": "python",
   "nbconvert_exporter": "python",
   "pygments_lexer": "ipython3",
   "version": "3.10.2"
  },
  "orig_nbformat": 4
 },
 "nbformat": 4,
 "nbformat_minor": 2
}
