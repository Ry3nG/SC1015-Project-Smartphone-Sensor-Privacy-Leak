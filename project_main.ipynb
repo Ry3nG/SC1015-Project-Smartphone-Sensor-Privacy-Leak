{
 "cells": [
  {
   "cell_type": "markdown",
   "metadata": {},
   "source": [
    "# SC1015 Project Team 2\n",
    "> by SCSE Chen Yi, SCSE Gong Zerui, SCSE Zeng Xunyi"
   ]
  }
 ],
 "metadata": {
  "language_info": {
   "name": "python"
  },
  "orig_nbformat": 4
 },
 "nbformat": 4,
 "nbformat_minor": 2
}
